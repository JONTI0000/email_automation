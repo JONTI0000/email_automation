{
 "cells": [
  {
   "cell_type": "code",
   "execution_count": 6,
   "metadata": {},
   "outputs": [
    {
     "data": {
      "text/plain": [
       "['01']"
      ]
     },
     "execution_count": 6,
     "metadata": {},
     "output_type": "execute_result"
    }
   ],
   "source": [
    "import os\n",
    "path = os.getcwd()\n",
    "step=2\n",
    "dirs = os.listdir(os.path.join(path,\"batches\"))\n",
    "dirs = [dir.replace(\".xlsx\",\"\") for dir in dirs ]\n",
    "dirs"
   ]
  },
  {
   "cell_type": "code",
   "execution_count": 12,
   "metadata": {},
   "outputs": [],
   "source": [
    "def Emailer(message, subject, recipient):\n",
    "    import win32com.client as win32   \n",
    "\n",
    "    outlook = win32.Dispatch('outlook.application')\n",
    "    mail = outlook.CreateItem(0)\n",
    "    mail.To = recipient\n",
    "    mail.Subject = subject\n",
    "\n",
    "\n",
    "    index = mail.HTMLbody.find('>', mail.HTMLbody.find('<body')) \n",
    "    mail.HTMLbody = mail.HTMLbody[:index + 1] + message + mail.HTMLbody[index + 1:] \n",
    "\n",
    "    mail.Display(True)\n",
    "\n",
    "Emailer(\"test\",\"test\",\"janidul03@gmail.com\")"
   ]
  },
  {
   "cell_type": "code",
   "execution_count": 11,
   "metadata": {},
   "outputs": [
    {
     "name": "stdout",
     "output_type": "stream",
     "text": [
      "Signature not found.\n"
     ]
    }
   ],
   "source": [
    "import win32com.client as win32\n",
    "\n",
    "def get_outlook_signature():\n",
    "    outlook = win32.Dispatch('Outlook.Application')\n",
    "    namespace = outlook.GetNamespace(\"MAPI\")\n",
    "    folder = namespace.GetDefaultFolder(13)  # 13 represents the folder containing signatures\n",
    "\n",
    "    # Loop through all items in the signatures folder\n",
    "    for item in folder.Items:\n",
    "        if item.Name == \"signature 01\":  # Replace 'YourSignatureName' with your actual signature name\n",
    "            return item.HTMLBody  # Return the HTML body of the signature\n",
    "\n",
    "    return None  # Return None if the specified signature name is not found\n",
    "\n",
    "def send_email_with_signature():\n",
    "    outlook = win32.Dispatch('Outlook.Application')\n",
    "    mail = outlook.CreateItem(0)\n",
    "\n",
    "    mail.To = 'janidul03@gmail.com'\n",
    "    mail.Subject = 'Test Email with Outlook Signature'\n",
    "    mail.Body = 'This is a test email.'\n",
    "\n",
    "    # Get the Outlook signature\n",
    "    signature = get_outlook_signature()\n",
    "\n",
    "    # Add the signature to the email body if found\n",
    "    if signature:\n",
    "        mail.HTMLBody = f\"{mail.Body}<br><br>{signature}\"\n",
    "    else:\n",
    "        print(\"Signature not found.\")\n",
    "\n",
    "    mail.Display(True)\n",
    "\n",
    "# Send the email with the Outlook signature\n",
    "send_email_with_signature()\n"
   ]
  },
  {
   "cell_type": "code",
   "execution_count": 7,
   "metadata": {},
   "outputs": [],
   "source": [
    "import win32com as win32\n",
    "outlook = win32.client.Dispatch(\"Outlook.Application\")\n",
    "accounts = outlook.Session.Accounts\n",
    "mail = outlook.CreateItem(0)\n",
    "for acc in accounts:\n",
    "    if acc.DisplayName == \"janindu@bubltown.co.uk\":\n",
    "        mail._oleobj_.Invoke(*(64209, 0, 8, 0, acc))\n",
    "        break\n",
    "html_content=\"<h1>Hi {} </h1> <br> <p>this is a email sent using an automation</p>\".format(\"Janindu\")\n",
    "html_signature = \"\"\"\n",
    "<body style=\"font-family: Arial, sans-serif; margin: 0; padding: 0;\">\n",
    "  <div style=\"border-top: 2px solid #333; padding-top: 10px; margin-top: 20px; font-size: 14px; color: #555;\">\n",
    "    <p style=\"margin: 0;\"><span style=\"font-weight: bold; color: #000;\">John Doe</span><br>\n",
    "    <span style=\"color: #888;\">Senior Developer</span></p>\n",
    "    <p style=\"margin: 5px 0 0 0;\">Email: <a href=\"mailto:johndoe@example.com\" style=\"text-decoration: none; color: #555;\">johndoe@example.com</a><br>\n",
    "    Phone: +1 123-456-7890</p>\n",
    "\"\"\"\n",
    "mail.Subject = \"test\"\n",
    "mail.HTMLBody = html_content\n",
    "mail.HTMLBody += html_signature\n",
    "\n",
    "mail.To = \";\".join([\"janidul03@gmail.com\"])\n",
    "mail.Display(True)\n"
   ]
  },
  {
   "cell_type": "code",
   "execution_count": null,
   "metadata": {},
   "outputs": [],
   "source": []
  }
 ],
 "metadata": {
  "kernelspec": {
   "display_name": "Python 3",
   "language": "python",
   "name": "python3"
  },
  "language_info": {
   "codemirror_mode": {
    "name": "ipython",
    "version": 3
   },
   "file_extension": ".py",
   "mimetype": "text/x-python",
   "name": "python",
   "nbconvert_exporter": "python",
   "pygments_lexer": "ipython3",
   "version": "3.12.0"
  }
 },
 "nbformat": 4,
 "nbformat_minor": 2
}
