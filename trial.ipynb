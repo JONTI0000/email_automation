{
 "cells": [
  {
   "cell_type": "code",
   "execution_count": 6,
   "metadata": {},
   "outputs": [
    {
     "data": {
      "text/plain": [
       "['01']"
      ]
     },
     "execution_count": 6,
     "metadata": {},
     "output_type": "execute_result"
    }
   ],
   "source": [
    "import os\n",
    "path = os.getcwd()\n",
    "step=2\n",
    "dirs = os.listdir(os.path.join(path,\"batches\"))\n",
    "dirs = [dir.replace(\".xlsx\",\"\") for dir in dirs ]\n",
    "dirs"
   ]
  },
  {
   "cell_type": "code",
   "execution_count": 12,
   "metadata": {},
   "outputs": [],
   "source": [
    "def Emailer(message, subject, recipient):\n",
    "    import win32com.client as win32   \n",
    "\n",
    "    outlook = win32.Dispatch('outlook.application')\n",
    "    mail = outlook.CreateItem(0)\n",
    "    mail.To = recipient\n",
    "    mail.Subject = subject\n",
    "\n",
    "\n",
    "    index = mail.HTMLbody.find('>', mail.HTMLbody.find('<body')) \n",
    "    mail.HTMLbody = mail.HTMLbody[:index + 1] + message + mail.HTMLbody[index + 1:] \n",
    "\n",
    "    mail.Display(True)\n",
    "\n",
    "Emailer(\"test\",\"test\",\"janidul03@gmail.com\")"
   ]
  },
  {
   "cell_type": "code",
   "execution_count": 11,
   "metadata": {},
   "outputs": [
    {
     "name": "stdout",
     "output_type": "stream",
     "text": [
      "Signature not found.\n"
     ]
    }
   ],
   "source": [
    "import win32com.client as win32\n",
    "\n",
    "def get_outlook_signature():\n",
    "    outlook = win32.Dispatch('Outlook.Application')\n",
    "    namespace = outlook.GetNamespace(\"MAPI\")\n",
    "    folder = namespace.GetDefaultFolder(13)  # 13 represents the folder containing signatures\n",
    "\n",
    "    # Loop through all items in the signatures folder\n",
    "    for item in folder.Items:\n",
    "        if item.Name == \"signature 01\":  # Replace 'YourSignatureName' with your actual signature name\n",
    "            return item.HTMLBody  # Return the HTML body of the signature\n",
    "\n",
    "    return None  # Return None if the specified signature name is not found\n",
    "\n",
    "def send_email_with_signature():\n",
    "    outlook = win32.Dispatch('Outlook.Application')\n",
    "    mail = outlook.CreateItem(0)\n",
    "\n",
    "    mail.To = 'janidul03@gmail.com'\n",
    "    mail.Subject = 'Test Email with Outlook Signature'\n",
    "    mail.Body = 'This is a test email.'\n",
    "\n",
    "    # Get the Outlook signature\n",
    "    signature = get_outlook_signature()\n",
    "\n",
    "    # Add the signature to the email body if found\n",
    "    if signature:\n",
    "        mail.HTMLBody = f\"{mail.Body}<br><br>{signature}\"\n",
    "    else:\n",
    "        print(\"Signature not found.\")\n",
    "\n",
    "    mail.Display(True)\n",
    "\n",
    "# Send the email with the Outlook signature\n",
    "send_email_with_signature()\n"
   ]
  },
  {
   "cell_type": "code",
   "execution_count": 4,
   "metadata": {},
   "outputs": [
    {
     "ename": "AttributeError",
     "evalue": "module 'win32com.client' has no attribute 'client'",
     "output_type": "error",
     "traceback": [
      "\u001b[1;31m---------------------------------------------------------------------------\u001b[0m",
      "\u001b[1;31mAttributeError\u001b[0m                            Traceback (most recent call last)",
      "Cell \u001b[1;32mIn[4], line 3\u001b[0m\n\u001b[0;32m      1\u001b[0m \u001b[38;5;28;01mimport\u001b[39;00m \u001b[38;5;21;01mwin32com\u001b[39;00m\u001b[38;5;21;01m.\u001b[39;00m\u001b[38;5;21;01mclient\u001b[39;00m \u001b[38;5;28;01mas\u001b[39;00m \u001b[38;5;21;01mwin32\u001b[39;00m\n\u001b[1;32m----> 3\u001b[0m outlook \u001b[38;5;241m=\u001b[39m \u001b[43mwin32\u001b[49m\u001b[38;5;241;43m.\u001b[39;49m\u001b[43mclient\u001b[49m\u001b[38;5;241m.\u001b[39mDispatch(\u001b[38;5;124m\"\u001b[39m\u001b[38;5;124mOutlook.Application\u001b[39m\u001b[38;5;124m\"\u001b[39m)\n\u001b[0;32m      4\u001b[0m accounts \u001b[38;5;241m=\u001b[39m outlook\u001b[38;5;241m.\u001b[39mSession\u001b[38;5;241m.\u001b[39mAccounts\n\u001b[0;32m      5\u001b[0m mail \u001b[38;5;241m=\u001b[39m outlook\u001b[38;5;241m.\u001b[39mCreateItem(\u001b[38;5;241m0\u001b[39m)\n",
      "\u001b[1;31mAttributeError\u001b[0m: module 'win32com.client' has no attribute 'client'"
     ]
    }
   ],
   "source": [
    "import win32com.client as win32\n",
    "\n",
    "outlook = win32.client.Dispatch(\"Outlook.Application\")\n",
    "accounts = outlook.Session.Accounts\n",
    "mail = outlook.CreateItem(0)\n",
    "for acc in accounts:\n",
    "    if acc.DisplayName == \"janindu@bubltown.co.uk\":\n",
    "        mail._oleobj_.Invoke(*(64209, 0, 8, 0, acc))\n",
    "        break\n",
    "html_content=\"<h1>Hi {} </h1> <br> <p>this is a email sent using an automation</p>\".format(\"Janindu\")\n",
    "html_signature = \"\"\"\n",
    "<body style=\"font-family: Arial, sans-serif; margin: 0; padding: 0;\">\n",
    "  <div style=\"border-top: 2px solid #333; padding-top: 10px; margin-top: 20px; font-size: 14px; color: #555;\">\n",
    "    <p style=\"margin: 0;\"><span style=\"font-weight: bold; color: #000;\">John Doe</span><br>\n",
    "    <span style=\"color: #888;\">Senior Developer</span></p>\n",
    "    <p style=\"margin: 5px 0 0 0;\">Email: <a href=\"mailto:johndoe@example.com\" style=\"text-decoration: none; color: #555;\">johndoe@example.com</a><br>\n",
    "    Phone: +1 123-456-7890</p>\n",
    "\"\"\"\n",
    "mail.Subject = \"test\"\n",
    "mail.HTMLBody = html_content\n",
    "mail.HTMLBody += html_signature\n",
    "\n",
    "mail.To = \";\".join([\"janidul03@gmail.com\"])\n",
    "mail.Display(True)\n"
   ]
  },
  {
   "cell_type": "code",
   "execution_count": 3,
   "metadata": {},
   "outputs": [],
   "source": [
    "import win32com.client\n",
    "\n",
    "def ready_html_email(name,area):\n",
    "    body = open(\"test_template.txt\",\"r\").read().format(name=name,area=area)\n",
    "    signature = open(\"signature.txt\",\"r\").read()\n",
    "    outlook = win32com.client.Dispatch(\"Outlook.Application\")\n",
    "    accounts = outlook.Session.Accounts\n",
    "    mail = outlook.CreateItem(0)\n",
    "    for acc in accounts:\n",
    "        if acc.DisplayName == \"janindu@bubltown.co.uk\":\n",
    "            mail._oleobj_.Invoke(*(64209, 0, 8, 0, acc))\n",
    "            break\n",
    "    mail.Subject = \"test\"\n",
    "    signature = open(\"signature.txt\",\"r\").read().format(name=name,email=\"janindu@bubltown.co.uk\")\n",
    "    \n",
    "    mail.HTMLBody = body\n",
    "    mail.HTMLBody += signature\n",
    "\n",
    "    mail.To = \";\".join([\"janidul03@gmail.com\"])\n",
    "    mail.Display(True)\n",
    "    \n",
    "ready_html_email(\"Janindu\",\"wallignton\")"
   ]
  },
  {
   "cell_type": "code",
   "execution_count": 8,
   "metadata": {},
   "outputs": [
    {
     "ename": "TypeError",
     "evalue": "unsupported operand type(s) for -: 'str' and 'str'",
     "output_type": "error",
     "traceback": [
      "\u001b[1;31m---------------------------------------------------------------------------\u001b[0m",
      "\u001b[1;31mTypeError\u001b[0m                                 Traceback (most recent call last)",
      "Cell \u001b[1;32mIn[8], line 8\u001b[0m\n\u001b[0;32m      5\u001b[0m time\u001b[38;5;241m.\u001b[39msleep(\u001b[38;5;241m5\u001b[39m)\n\u001b[0;32m      6\u001b[0m end \u001b[38;5;241m=\u001b[39m datetime\u001b[38;5;241m.\u001b[39mnow()\u001b[38;5;241m.\u001b[39mstrftime(\u001b[38;5;124m'\u001b[39m\u001b[38;5;124m%\u001b[39m\u001b[38;5;124mH:\u001b[39m\u001b[38;5;124m%\u001b[39m\u001b[38;5;124mM:\u001b[39m\u001b[38;5;124m%\u001b[39m\u001b[38;5;124mS\u001b[39m\u001b[38;5;124m'\u001b[39m)\n\u001b[1;32m----> 8\u001b[0m \u001b[38;5;28mprint\u001b[39m(\u001b[43mnow\u001b[49m\u001b[38;5;241;43m-\u001b[39;49m\u001b[43mend\u001b[49m)\n",
      "\u001b[1;31mTypeError\u001b[0m: unsupported operand type(s) for -: 'str' and 'str'"
     ]
    }
   ],
   "source": [
    "from datetime import datetime\n",
    "import time\n",
    "\n",
    "now = datetime.now().strftime('%H:%M:%S')\n",
    "time.sleep(5)\n",
    "end = datetime.now().strftime('%H:%M:%S')\n",
    "\n",
    "print(now-end)"
   ]
  },
  {
   "cell_type": "code",
   "execution_count": 1,
   "metadata": {},
   "outputs": [
    {
     "name": "stdout",
     "output_type": "stream",
     "text": [
      "Start time: 07:02:53\n",
      "End time: 07:02:58\n",
      "Time difference: 0:00:05.000359\n"
     ]
    }
   ],
   "source": [
    "from datetime import datetime\n",
    "import time\n",
    "\n",
    "start_time = datetime.now()\n",
    "now = start_time.strftime('%H:%M:%S')\n",
    "\n",
    "# Simulate a delay of 5 seconds\n",
    "time.sleep(5)\n",
    "\n",
    "end_time = datetime.now()\n",
    "end = end_time.strftime('%H:%M:%S')\n",
    "\n",
    "# Calculate the time difference\n",
    "time_difference = end_time - start_time\n",
    "\n",
    "print(f\"Start time: {now}\")\n",
    "print(f\"End time: {end}\")\n",
    "print(f\"Time difference: {time_difference}\")\n"
   ]
  },
  {
   "cell_type": "markdown",
   "metadata": {},
   "source": [
    "sheduler testing"
   ]
  },
  {
   "cell_type": "code",
   "execution_count": 59,
   "metadata": {},
   "outputs": [],
   "source": [
    "import pandas as pd\n",
    "from datetime import datetime\n",
    "#loading data\n",
    "df = pd.read_csv(\"shedule.csv\")\n",
    "df[\"date\"] = pd.to_datetime(df[\"date\"],dayfirst=True)\n",
    "df['step'] = df['step'].astype(str).str.zfill(2)"
   ]
  },
  {
   "cell_type": "code",
   "execution_count": 60,
   "metadata": {},
   "outputs": [
    {
     "data": {
      "text/plain": [
       "datetime.date(2024, 2, 13)"
      ]
     },
     "execution_count": 60,
     "metadata": {},
     "output_type": "execute_result"
    }
   ],
   "source": [
    "#getting the closest date\n",
    "current_date = datetime.now()\n",
    "closest_future_date = min(df[\"date\"], key=lambda x: abs((x - current_date).days))\n",
    "closest_future_date.date()"
   ]
  },
  {
   "cell_type": "code",
   "execution_count": 61,
   "metadata": {},
   "outputs": [],
   "source": [
    "#loading the closest date to the current date\n",
    "records = df[df[\"date\"] == closest_future_date]"
   ]
  },
  {
   "cell_type": "code",
   "execution_count": 74,
   "metadata": {},
   "outputs": [],
   "source": [
    "most_common_value = records['time'].value_counts().idxmax()\n"
   ]
  },
  {
   "cell_type": "code",
   "execution_count": 83,
   "metadata": {},
   "outputs": [
    {
     "data": {
      "text/plain": [
       "datetime.time"
      ]
     },
     "execution_count": 83,
     "metadata": {},
     "output_type": "execute_result"
    }
   ],
   "source": [
    "time_dt = datetime.strptime(most_common_value,\"%H:%M\")\n",
    "type(time_dt.time())\n"
   ]
  },
  {
   "cell_type": "code",
   "execution_count": 82,
   "metadata": {},
   "outputs": [
    {
     "data": {
      "text/plain": [
       "datetime.datetime(2024, 2, 13, 11, 0)"
      ]
     },
     "execution_count": 82,
     "metadata": {},
     "output_type": "execute_result"
    }
   ],
   "source": [
    "scheduled_date = datetime.combine(closest_future_date,time_dt.time())\n",
    "scheduled_date"
   ]
  },
  {
   "cell_type": "code",
   "execution_count": 70,
   "metadata": {},
   "outputs": [
    {
     "ename": "TypeError",
     "evalue": "combine() argument 2 must be datetime.time, not str",
     "output_type": "error",
     "traceback": [
      "\u001b[1;31m---------------------------------------------------------------------------\u001b[0m",
      "\u001b[1;31mTypeError\u001b[0m                                 Traceback (most recent call last)",
      "Cell \u001b[1;32mIn[70], line 1\u001b[0m\n\u001b[1;32m----> 1\u001b[0m \u001b[43mdatetime\u001b[49m\u001b[38;5;241;43m.\u001b[39;49m\u001b[43mcombine\u001b[49m\u001b[43m(\u001b[49m\u001b[43mclosest_future_date\u001b[49m\u001b[43m,\u001b[49m\u001b[43mmost_common_value\u001b[49m\u001b[43m)\u001b[49m\n",
      "\u001b[1;31mTypeError\u001b[0m: combine() argument 2 must be datetime.time, not str"
     ]
    }
   ],
   "source": [
    "\n",
    "datetime.combine(closest_future_date,most_common_value)"
   ]
  },
  {
   "cell_type": "code",
   "execution_count": 63,
   "metadata": {},
   "outputs": [
    {
     "name": "stdout",
     "output_type": "stream",
     "text": [
      "Index: 1, Values: 02, janindu@bubltown.co.uk\n",
      "Index: 2, Values: 02, erin.thompson@poddle.uk\n",
      "Index: 3, Values: 02, connor.evans@poddle.uk\n"
     ]
    }
   ],
   "source": [
    "for index, row in records.iterrows():\n",
    "    print(f'Index: {index}, Values: {row[\"step\"]}, {row[\"email address\"]}')"
   ]
  },
  {
   "cell_type": "code",
   "execution_count": null,
   "metadata": {},
   "outputs": [],
   "source": [
    "import schedule\n",
    "import time\n",
    "\n",
    "def job():\n",
    "    print(\"Task is running...\")\n",
    "\n",
    "# Schedule the job to run at a specific date and time\n",
    "schedule.every().day.at(\"2024-02-14 10:00\").do(job)  # Run at 10:00 AM on February 14, 2024\n",
    "\n",
    "# Run the scheduler\n",
    "while True:\n",
    "    schedule.run_pending()\n",
    "    time.sleep(1)\n"
   ]
  }
 ],
 "metadata": {
  "kernelspec": {
   "display_name": "Python 3",
   "language": "python",
   "name": "python3"
  },
  "language_info": {
   "codemirror_mode": {
    "name": "ipython",
    "version": 3
   },
   "file_extension": ".py",
   "mimetype": "text/x-python",
   "name": "python",
   "nbconvert_exporter": "python",
   "pygments_lexer": "ipython3",
   "version": "3.12.1"
  }
 },
 "nbformat": 4,
 "nbformat_minor": 2
}
